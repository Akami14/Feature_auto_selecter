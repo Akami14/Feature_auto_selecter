{
  "nbformat": 4,
  "nbformat_minor": 0,
  "metadata": {
    "colab": {
      "provenance": []
    },
    "kernelspec": {
      "name": "python3",
      "display_name": "Python 3"
    },
    "language_info": {
      "name": "python"
    }
  },
  "cells": [
    {
      "cell_type": "markdown",
      "source": [
        "### Идея\n",
        "Большинство формул нашего мира как физического так других сфер состоит из перемножения, либо деления, либо их кобминации.  \n",
        "Как пример ниже формулы:  \n",
        "F=ma, E=mgh, E=mw^2/2, I=q/t, A=Fs, P=F/S IMT=m/l, p=mw, Cm=n/V, n=mM, n=N/Na.  \n",
        "В более сложных процесах как биохимические реакции, расчет кинетики реакции, уравнение нормального распределения,.... всплывает либо логорифмирование либо возведение экспоненты в один из признаков или их групповую комбинацию.  \n",
        "В данной работе я использую данную эвристику для генерации дополнительных признаков. В качестве базовых признаков я беру следующие комбинации:\n",
        "*1) умножение по 3  \n",
        "2) умножение по 2  \n",
        "3) делений 2 чисел  \n",
        "4) умножение двух и деление на третье\n",
        "5) возведение e в степень по признаку\n",
        "6) логарифм признака\n",
        "7) комбинация из 2х с возведениему exp в степень по одному признаку.\n",
        "\n",
        "В дальнейшем можно создавать комбинации из комбинаций например в начале взять логарифм признака а потом перемножить получившиеся логорифмы признаков со всеми признаками в парах или тройках или же перемножив три признака взять логарифм их произведения и тд и тп"
      ],
      "metadata": {
        "id": "nNLG01Yt6HQ2"
      }
    },
    {
      "cell_type": "markdown",
      "source": [],
      "metadata": {
        "id": "o2_43iTK6IX3"
      }
    },
    {
      "cell_type": "code",
      "execution_count": null,
      "metadata": {
        "id": "VaE8UCJfPk-5"
      },
      "outputs": [],
      "source": [
        "import pandas as pd\n",
        "from sklearn.datasets import fetch_openml\n",
        "from itertools import *"
      ]
    },
    {
      "cell_type": "code",
      "source": [
        "class Generator():\n",
        "\n",
        "\n",
        "    def __init__(self) -> None:\n",
        "      pass\n",
        "\n",
        "\n",
        "    def random_generate()\n",
        "\n",
        "    def sub_space_generator(multiply==True, devision == True, space = 3)\n",
        "\n",
        "    def sub_multiply_generator\n"
      ],
      "metadata": {
        "id": "QQgnG_5o8JvV"
      },
      "execution_count": null,
      "outputs": []
    },
    {
      "cell_type": "code",
      "source": [
        "url = 'https://raw.githubusercontent.com/datasciencedojo/datasets/master/titanic.csv'\n",
        "titanic_data = pd.read_csv(url)"
      ],
      "metadata": {
        "id": "vJDnnCVTRx7F"
      },
      "execution_count": null,
      "outputs": []
    },
    {
      "cell_type": "code",
      "source": [
        "titanic_data = titanic_data[['PassengerId','Survived','Pclass', 'Age','SibSp', 'Parch']]"
      ],
      "metadata": {
        "id": "l68DwjSFRNZP"
      },
      "execution_count": null,
      "outputs": []
    },
    {
      "cell_type": "code",
      "source": [
        "titanic_data.dropna(inplace=True)\n"
      ],
      "metadata": {
        "id": "iAhbmNgdR29y"
      },
      "execution_count": null,
      "outputs": []
    },
    {
      "cell_type": "code",
      "source": [
        "def multiply_3(df):\n",
        "  col = df.columns\n",
        "  multiply_list = []\n",
        "  for name_col in combinations(col, 3):\n",
        "    multiply_list.append(name_col)\n",
        "\n",
        "  for tup in multiply_list:\n",
        "    df[str(tup)]=df[tup[0]]*df[tup[1]]*df[tup[2]]\n",
        "\n",
        "  return df\n",
        "\n"
      ],
      "metadata": {
        "id": "2SokRgCUSfGR"
      },
      "execution_count": null,
      "outputs": []
    },
    {
      "cell_type": "code",
      "source": [
        "def multiply_2(df):\n",
        "  col = df.columns\n",
        "  multiply_list = []\n",
        "  for name_col in combinations(col, 2):\n",
        "    multiply_list.append(name_col)\n",
        "\n",
        "  for tup in multiply_list:\n",
        "    df[str(tup)]=df[tup[0]]*df[tup[1]]\n",
        "\n",
        "  return df"
      ],
      "metadata": {
        "id": "PXvG_5uTBkMn"
      },
      "execution_count": null,
      "outputs": []
    },
    {
      "cell_type": "code",
      "source": [
        "def devision_2(df):\n",
        "  col = df.columns\n",
        "  multiply_list = []\n",
        "  for name_col in permutations(col, 2):\n",
        "    multiply_list.append(name_col)\n",
        "\n",
        "  for tup in multiply_list:\n",
        "    df[str(tup)]=df[tup[0]]/df[tup[1]]\n",
        "\n",
        "  return df"
      ],
      "metadata": {
        "id": "k-fb_AYNBob3"
      },
      "execution_count": null,
      "outputs": []
    },
    {
      "cell_type": "code",
      "source": [
        "def devision_3(df):\n",
        "  col = df.columns\n",
        "  multiply_list = []\n",
        "  for name_col in permutations(col, 3):\n",
        "    multiply_list.append(name_col)\n",
        "\n",
        "  for tup in multiply_list:\n",
        "    df[str(tup)]=df[tup[0]]*df[tup[1]]/df[tup[2]]\n",
        "\n",
        "  return df"
      ],
      "metadata": {
        "id": "bL2tRRbZe_WU"
      },
      "execution_count": null,
      "outputs": []
    },
    {
      "cell_type": "code",
      "source": [
        "if i==c[-2]:\n"
      ],
      "metadata": {
        "id": "5_ND_LRwlVvt"
      },
      "execution_count": null,
      "outputs": []
    },
    {
      "cell_type": "code",
      "source": [
        "def multiply_3_in_seq_v2(df):\n",
        "  col = df.columns\n",
        "  list_c = [a for a in range(len(df.columns))]\n",
        "  for i in range(len(col)):\n",
        "    df[str(df.columns[i] + df.columns[i+1] + df.columns[i+2])] = df[df.columns[i]]*df[df.columns[i+1]]*df[df.columns[i+2]]\n",
        "    if i==list_c[-3]:\n",
        "      return df"
      ],
      "metadata": {
        "id": "LwGxaVuWlrgw"
      },
      "execution_count": null,
      "outputs": []
    },
    {
      "cell_type": "code",
      "source": [
        "seq=5\n",
        "for el in range(seq):\n",
        "  df[str(df.columns[el])]"
      ],
      "metadata": {
        "id": "kpAVI_d6q_B4"
      },
      "execution_count": null,
      "outputs": []
    },
    {
      "cell_type": "code",
      "source": [
        "def multiply_in_seq_v2(df, seq=3):\n",
        "  col = df.columns\n",
        "  list_c = [a for a in range(len(df.columns))]\n",
        "  for i in range(len(col)):\n",
        "    name = \"\"\n",
        "      for el in range(seq):\n",
        "        name = name.join(df.columns[el])\n",
        "        df[str(df.columns[i] + df.columns[i+1] + df.columns[i+2])] = df[df.columns[i]]*df[df.columns[i+1]]*df[df.columns[i+2]]\n",
        "\n",
        "      #if i==list_c[-seq]:\n",
        "        return df"
      ],
      "metadata": {
        "id": "NrIR9lfop0wC"
      },
      "execution_count": null,
      "outputs": []
    },
    {
      "cell_type": "code",
      "source": [
        "seq = 2\n",
        "col = df.columns\n",
        "list_c = [a for a in range(len(df.columns))]\n",
        "for i in range(len(col)):\n",
        "  name = \"\"\n",
        "  for el in range(seq):\n",
        "    name = name.join(df.columns[el])\n",
        "  print(name, '    ', df.columns[el])\n",
        "  #name = \"\"\n",
        "\n"
      ],
      "metadata": {
        "colab": {
          "base_uri": "https://localhost:8080/"
        },
        "id": "Q0jImgwesDRf",
        "outputId": "0f38d712-4a50-4220-c487-831e4aee8e69"
      },
      "execution_count": null,
      "outputs": [
        {
          "output_type": "stream",
          "name": "stdout",
          "text": [
            "PassengerId     \n",
            "SPassengerIduPassengerIdrPassengerIdvPassengerIdiPassengerIdvPassengerIdePassengerIdd     \n"
          ]
        }
      ]
    },
    {
      "cell_type": "code",
      "source": [
        "def multiply_3_in_seq(df):\n",
        "  col = df.columns\n",
        "  for i, c in enumerate(col):\n",
        "    df[str(df.columns[i] + df.columns[i+1] + df.columns[i+2])] = df[df.columns[i]]*df[df.columns[i+1]]*df[df.columns[i+2]]\n",
        "  return df"
      ],
      "metadata": {
        "id": "byS-9_mRBiwa"
      },
      "execution_count": null,
      "outputs": []
    },
    {
      "cell_type": "code",
      "source": [
        "import numpy as np\n",
        "a = np.array([[1,2,3],[1,4,9], [2,3,9],[3,2,1]])"
      ],
      "metadata": {
        "id": "6o57tuiLpFfD"
      },
      "execution_count": null,
      "outputs": []
    },
    {
      "cell_type": "code",
      "source": [
        "sklearn.metrics.pairwise.rbf_kernel(a, gamma=1.0,)"
      ],
      "metadata": {
        "colab": {
          "base_uri": "https://localhost:8080/"
        },
        "id": "53KK8Ne0nlcK",
        "outputId": "454f1949-0f11-4e0c-b2d8-bd8aff1d185c"
      },
      "execution_count": null,
      "outputs": [
        {
          "output_type": "execute_result",
          "data": {
            "text/plain": [
              "array([[1.00000000e+00, 4.24835426e-18, 3.13913279e-17, 3.35462628e-04],\n",
              "       [4.24835426e-18, 1.00000000e+00, 1.35335283e-01, 5.38018616e-32],\n",
              "       [3.13913279e-17, 1.35335283e-01, 1.00000000e+00, 2.17052201e-29],\n",
              "       [3.35462628e-04, 5.38018616e-32, 2.17052201e-29, 1.00000000e+00]])"
            ]
          },
          "metadata": {},
          "execution_count": 73
        }
      ]
    },
    {
      "cell_type": "code",
      "source": [],
      "metadata": {
        "id": "ALES5vCqDLLT"
      },
      "execution_count": null,
      "outputs": []
    },
    {
      "cell_type": "code",
      "source": [
        "np.exp(-40)"
      ],
      "metadata": {
        "colab": {
          "base_uri": "https://localhost:8080/"
        },
        "id": "8YJXxp79tIw5",
        "outputId": "75e10ac3-88fc-4ff3-d567-0ed2607babd1"
      },
      "execution_count": null,
      "outputs": [
        {
          "output_type": "execute_result",
          "data": {
            "text/plain": [
              "4.248354255291589e-18"
            ]
          },
          "metadata": {},
          "execution_count": 71
        }
      ]
    },
    {
      "cell_type": "code",
      "source": [
        "sklearn.metrics.pairwise.linear_kernel(a)"
      ],
      "metadata": {
        "colab": {
          "base_uri": "https://localhost:8080/"
        },
        "id": "lH_f_BAZDNE2",
        "outputId": "5f7ced77-a735-4b52-e7bd-89790e5b95a8"
      },
      "execution_count": null,
      "outputs": [
        {
          "output_type": "execute_result",
          "data": {
            "text/plain": [
              "array([[14., 36., 35., 10.],\n",
              "       [36., 98., 95., 20.],\n",
              "       [35., 95., 94., 21.],\n",
              "       [10., 20., 21., 14.]])"
            ]
          },
          "metadata": {},
          "execution_count": 74
        }
      ]
    },
    {
      "cell_type": "code",
      "source": [
        "df = pd."
      ],
      "metadata": {
        "id": "iByJE73YPrzF"
      },
      "execution_count": null,
      "outputs": []
    }
  ]
}